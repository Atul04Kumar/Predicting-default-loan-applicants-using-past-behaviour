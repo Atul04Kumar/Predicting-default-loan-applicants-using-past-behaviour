{
 "cells": [
  {
   "cell_type": "markdown",
   "id": "5a6aec60-7365-48ea-93d4-288711a76f0f",
   "metadata": {},
   "source": [
    "### 2\n",
    "+pip install missingno"
   ]
  },
  {
   "cell_type": "code",
   "execution_count": 1,
   "id": "aca8e679-d4cb-476a-9bf8-420c5747ecbb",
   "metadata": {},
   "outputs": [],
   "source": [
    "# Importing required libraries\n",
    "import numpy as np\n",
    "import pandas as pd\n",
    "import seaborn as sns\n",
    "sns.set(color_codes=True)\n",
    "import matplotlib.pyplot as plt\n",
    "import matplotlib as mpl\n",
    "%matplotlib inline\n",
    "import missingno as msno\n",
    "\n",
    "import warnings\n",
    "warnings.filterwarnings('ignore')\n",
    "\n",
    "\n",
    "#setting display options\n",
    "pd.set_option('display.max_rows', None)\n",
    "pd.set_option('display.max_columns', None)\n",
    "pd.set_option('display.width', None)\n",
    "pd.set_option('display.max_colwidth', None)"
   ]
  },
  {
   "cell_type": "code",
   "execution_count": null,
   "id": "40956950-80b4-41b7-9a9a-f12156b7d266",
   "metadata": {},
   "outputs": [],
   "source": [
    "# loading data\n",
    "main_csv = pd.read_csv('loan.csv',encoding = \"ISO-8859-1\", low_memory=False)"
   ]
  },
  {
   "cell_type": "code",
   "execution_count": null,
   "id": "a23f5172-017f-4d7f-9f37-eab35256705b",
   "metadata": {},
   "outputs": [],
   "source": [
    "main_csv.head(5)"
   ]
  },
  {
   "cell_type": "code",
   "execution_count": null,
   "id": "ab0adde6-3ee2-4634-8fac-4fd13b51da76",
   "metadata": {},
   "outputs": [],
   "source": [
    "print(main_csv.shape)"
   ]
  },
  {
   "cell_type": "code",
   "execution_count": null,
   "id": "f14c3f4a-8ab6-4dc2-86ba-85897b473961",
   "metadata": {},
   "outputs": [],
   "source": [
    "main_csv.describe()"
   ]
  },
  {
   "cell_type": "code",
   "execution_count": null,
   "id": "e1d0ee4e-0265-4da6-898e-aa4f918cba1e",
   "metadata": {},
   "outputs": [],
   "source": [
    "# checking data types\n",
    "daypes= main_csv.dtypes\n",
    "daypes"
   ]
  },
  {
   "cell_type": "markdown",
   "id": "1913bde2-28e7-479e-a60c-3e43dae1422b",
   "metadata": {},
   "source": [
    "# DATA Celaning"
   ]
  },
  {
   "cell_type": "code",
   "execution_count": null,
   "id": "57499f90-ead5-44b7-9c53-da2f6d5898b1",
   "metadata": {},
   "outputs": [],
   "source": [
    "msno.matrix(main_csv)"
   ]
  },
  {
   "cell_type": "code",
   "execution_count": null,
   "id": "27efc2e4-b2e1-4787-904a-5d7229471975",
   "metadata": {},
   "outputs": [],
   "source": [
    "# Visualize missing values as a matrix Before removing Missing values columns\n",
    "\n",
    "plt.figure(figsize=(10,8))\n",
    "sns.heatmap(main_csv.isnull(), cbar=False)\n",
    "plt.title(\"Missing Value Heatmap\")\n",
    "plt.show()"
   ]
  },
  {
   "cell_type": "code",
   "execution_count": null,
   "id": "70a82626-72b3-4f86-b531-1aa8715639f3",
   "metadata": {},
   "outputs": [],
   "source": [
    "plt.figure(figsize=(26, 10))\n",
    "plt.bar(main_csv.columns, main_csv.isnull().sum())\n",
    "plt.xlabel(\"Columns\")\n",
    "plt.ylabel(\"Number of Missing Values\")\n",
    "plt.title(\"Missing Values per Column\")\n",
    "plt.xticks(rotation=90)\n",
    "plt.show()"
   ]
  },
  {
   "cell_type": "code",
   "execution_count": null,
   "id": "b091fb2a-f5fa-4e73-b37f-eeaecfaf1339",
   "metadata": {},
   "outputs": [],
   "source": [
    "msno.bar(main_csv)"
   ]
  },
  {
   "cell_type": "code",
   "execution_count": null,
   "id": "47a8d70a-e497-4256-b98b-555587a2a578",
   "metadata": {},
   "outputs": [],
   "source": [
    "# Visualize the correlation between the number of\n",
    "# missing values in different columns as a heatmap\n",
    "msno.heatmap(main_csv.select_dtypes('number'))"
   ]
  },
  {
   "cell_type": "code",
   "execution_count": null,
   "id": "f265066e-9601-4cae-8333-7fba9b94a38d",
   "metadata": {},
   "outputs": [],
   "source": [
    "# Drop columns not useful for analysis (Customer behavior variables)\n",
    "\n",
    "main_csv = main_csv.drop(['delinq_2yrs', 'inq_last_6mths', 'open_acc','pub_rec', 'revol_bal', 'revol_util', 'total_acc', 'out_prncp',\n",
    "                  'out_prncp_inv', 'total_pymnt', 'total_pymnt_inv', 'total_rec_prncp', 'total_rec_int', 'total_rec_late_fee',\n",
    "                  'recoveries', 'collection_recovery_fee', 'last_pymnt_d', 'last_pymnt_amnt', 'last_credit_pull_d','collections_12_mths_ex_med', 'chargeoff_within_12_mths', 'tax_liens','id', 'member_id',\n",
    "                                 'url', 'desc', 'zip_code','pub_rec_bankruptcies','earliest_cr_line'\n",
    "                 ], axis = 1)"
   ]
  },
  {
   "cell_type": "code",
   "execution_count": null,
   "id": "14c56722-f08a-4be0-b9ee-cc73d1c0d4d7",
   "metadata": {},
   "outputs": [],
   "source": [
    "main_csv.shape"
   ]
  },
  {
   "cell_type": "code",
   "execution_count": null,
   "id": "c21ca109-bb27-4f80-8df9-4c07d4453f99",
   "metadata": {},
   "outputs": [],
   "source": [
    "#checking empty columns in percentage\n",
    "round((main_csv.isnull().sum())*100/len(main_csv.index))"
   ]
  },
  {
   "cell_type": "code",
   "execution_count": null,
   "id": "5473da13-f355-47ca-af4d-961a2db2b9d3",
   "metadata": {},
   "outputs": [],
   "source": [
    "#drop all the columns which contains more then 55 % missing Data \n",
    "missing_values_colms = main_csv.columns[(main_csv.isnull().sum()*100/len(main_csv.index)) > 55]\n",
    "print(missing_values_colms)\n",
    "main_csv=main_csv.drop(missing_values_colms,axis=1)"
   ]
  },
  {
   "cell_type": "code",
   "execution_count": null,
   "id": "bc100e3f-c0c4-4784-9288-a67bbd05acd2",
   "metadata": {},
   "outputs": [],
   "source": [
    "main_csv.head()"
   ]
  },
  {
   "cell_type": "code",
   "execution_count": null,
   "id": "4f6bce36-62be-4821-a257-33017334418f",
   "metadata": {},
   "outputs": [],
   "source": [
    "main_csv.shape"
   ]
  },
  {
   "cell_type": "code",
   "execution_count": null,
   "id": "74b544e9-7f98-42ec-a123-728368977da0",
   "metadata": {},
   "outputs": [],
   "source": [
    "msno.bar(main_csv)"
   ]
  },
  {
   "cell_type": "code",
   "execution_count": null,
   "id": "b1e57d78-82c5-4aee-9e49-181b1a2ebfdd",
   "metadata": {},
   "outputs": [],
   "source": [
    "msno.matrix(main_csv)"
   ]
  },
  {
   "cell_type": "code",
   "execution_count": null,
   "id": "b8403fa0-7fec-4f89-bee0-d2529a79b0a4",
   "metadata": {},
   "outputs": [],
   "source": [
    "#Rechecking empty columns in percentage\n",
    "round((100*main_csv.isnull().sum())/len(main_csv.index)) "
   ]
  },
  {
   "cell_type": "code",
   "execution_count": null,
   "id": "43e96f56-53fb-41c7-890e-59513dab6f01",
   "metadata": {},
   "outputs": [],
   "source": [
    "main_csv.nunique()"
   ]
  },
  {
   "cell_type": "code",
   "execution_count": null,
   "id": "d9998ebf-7d82-4444-a21e-96e1e56b6c56",
   "metadata": {},
   "outputs": [],
   "source": [
    "main_csv=main_csv = main_csv.drop(['delinq_amnt','acc_now_delinq','application_type','policy_code','initial_list_status','pymnt_plan'], axis = 1)"
   ]
  },
  {
   "cell_type": "code",
   "execution_count": null,
   "id": "e4789dce-dfb3-4fe2-a893-41453d08b1e7",
   "metadata": {},
   "outputs": [],
   "source": [
    "main_csv.shape"
   ]
  },
  {
   "cell_type": "code",
   "execution_count": null,
   "id": "02a030e0-c4d0-4321-9b8d-9865f917ac83",
   "metadata": {},
   "outputs": [],
   "source": [
    "main_csv.head(20)"
   ]
  },
  {
   "cell_type": "markdown",
   "id": "ebc85d3a-7c56-4a3b-9b43-ceb4c5ec45e2",
   "metadata": {},
   "source": [
    "#### remove all the rows which one contained loan status is current becuase its not make any sens for loan defaulter.It still going on so we not have past data to making decision"
   ]
  },
  {
   "cell_type": "code",
   "execution_count": null,
   "id": "1f55ee3a-5aa0-4e14-a0e3-71300ad22ae1",
   "metadata": {},
   "outputs": [],
   "source": [
    "main_csv=main_csv[main_csv['loan_status'] !='Current']"
   ]
  },
  {
   "cell_type": "code",
   "execution_count": null,
   "id": "76e0a901-fe75-4ad3-a257-99d19a230f44",
   "metadata": {},
   "outputs": [],
   "source": [
    "main_csv.shape"
   ]
  },
  {
   "cell_type": "markdown",
   "id": "7ada8634-df5d-43f4-9c8f-ab4b6d083d58",
   "metadata": {},
   "source": [
    "#### Now we able to see that only 71 columns and 1340973 rows available for analysis"
   ]
  },
  {
   "cell_type": "code",
   "execution_count": null,
   "id": "6d93703a-1fe4-4399-b8ed-b1fbbdc98358",
   "metadata": {},
   "outputs": [],
   "source": [
    "main_csv['loan_status'].value_counts()"
   ]
  },
  {
   "cell_type": "code",
   "execution_count": null,
   "id": "84cc805e-6806-43a3-be75-c9b0dca28ce1",
   "metadata": {
    "scrolled": true
   },
   "outputs": [],
   "source": [
    "# ploting a count plt for loan status for two varaibles Fully Paid and Charged Off\n",
    "sns.countplot(data=main_csv,x=main_csv['loan_status'])\n",
    "plt.title('Loan_status count plot')\n",
    "plt.xticks(rotation=90)\n",
    "plt.show()"
   ]
  },
  {
   "cell_type": "code",
   "execution_count": null,
   "id": "866924f9-1c54-44d0-ac89-132e49b134d7",
   "metadata": {},
   "outputs": [],
   "source": [
    "# Completed loans are those which are either charged off\n",
    "main_csv=main_csv[(main_csv['loan_status'] =='Fully Paid')|(main_csv['loan_status'] =='Charged Off')]"
   ]
  },
  {
   "cell_type": "code",
   "execution_count": null,
   "id": "e7163302-691e-4ab9-a49f-28196285d841",
   "metadata": {},
   "outputs": [],
   "source": [
    "# ploting a count plt for loan status for two varaibles Fully Paid and Charged Off\n",
    "sns.countplot(data=main_csv,x=main_csv['loan_status'])\n",
    "plt.title('Loan_status count plot')\n",
    "plt.xticks(rotation=90)\n",
    "plt.show()"
   ]
  },
  {
   "cell_type": "code",
   "execution_count": null,
   "id": "1021cc12-faa6-4e47-a34f-20c807ce63ff",
   "metadata": {},
   "outputs": [],
   "source": [
    "main_csv.shape"
   ]
  },
  {
   "cell_type": "code",
   "execution_count": null,
   "id": "2fdfdde0-9815-44a6-a4f7-9ac95db2041f",
   "metadata": {},
   "outputs": [],
   "source": [
    "# matrix plot after removing current values \n",
    "msno.matrix(main_csv)"
   ]
  },
  {
   "cell_type": "code",
   "execution_count": null,
   "id": "dcd9427e-9725-4946-978c-006bbe0443fb",
   "metadata": {},
   "outputs": [],
   "source": [
    "main_csv.dtypes"
   ]
  },
  {
   "cell_type": "code",
   "execution_count": null,
   "id": "61312017-ee33-4f70-a3dd-a32659c168ae",
   "metadata": {},
   "outputs": [],
   "source": []
  },
  {
   "cell_type": "code",
   "execution_count": null,
   "id": "51c25447-ec2c-4c99-a46f-f203680e23df",
   "metadata": {},
   "outputs": [],
   "source": [
    "main_csv.head()"
   ]
  },
  {
   "cell_type": "code",
   "execution_count": null,
   "id": "b0c9722d-57f0-4a42-8a4f-af447b10fb9a",
   "metadata": {},
   "outputs": [],
   "source": [
    "#converting issue date to date time\n",
    "from datetime import datetime\n",
    "\n",
    "def convert_to_datetime(date_str):\n",
    "    \"\"\"Converts a string in the format 'Month-Year' to a datetime object.\n",
    "\n",
    "    Args:\n",
    "        date_str: The input string in the format 'Month-Year'.\n",
    "\n",
    "    Returns:\n",
    "        A datetime object representing the first day of the given month and year.\n",
    "    \"\"\"\n",
    "\n",
    "    try:\n",
    "        # Parse the date string using a specific format\n",
    "        dt_obj = datetime.strptime(date_str, '%b-%Y')\n",
    "        # Set the day to the first day of the month\n",
    "        dt_obj = dt_obj.replace(day=1)\n",
    "        return dt_obj\n",
    "    except ValueError:\n",
    "        print(\"Invalid date format. Please use 'Month-Year' format.\")\n",
    "        return None\n",
    "\n",
    "# Example usage:\n",
    "main_csv['issue_d'] = main_csv['issue_d'].apply(convert_to_datetime)"
   ]
  },
  {
   "cell_type": "code",
   "execution_count": null,
   "id": "16cd25a5-7ff4-48a2-8407-c365cab7cf15",
   "metadata": {},
   "outputs": [],
   "source": [
    "main_csv.head()"
   ]
  },
  {
   "cell_type": "markdown",
   "id": "0df832c1-9f71-413f-8e91-09635d48b9b8",
   "metadata": {},
   "source": [
    "#### Deriverd variables"
   ]
  },
  {
   "cell_type": "code",
   "execution_count": null,
   "id": "19c4e43b-9b38-4fb4-b96d-f3ecc1450fc6",
   "metadata": {},
   "outputs": [],
   "source": [
    "# creating two derived columns for month and year\n",
    "main_csv['month'] = main_csv['issue_d'].dt.month\n",
    "main_csv['year'] = main_csv['issue_d'].dt.year"
   ]
  },
  {
   "cell_type": "code",
   "execution_count": null,
   "id": "60c4e94c-eaa7-447c-b4c1-6b9821897197",
   "metadata": {},
   "outputs": [],
   "source": [
    "main_csv.head()"
   ]
  },
  {
   "cell_type": "code",
   "execution_count": null,
   "id": "2fe10c01-d465-4d5d-9d45-a8773ee6c8ec",
   "metadata": {},
   "outputs": [],
   "source": [
    "print(main_csv['year'].value_counts())"
   ]
  },
  {
   "cell_type": "code",
   "execution_count": null,
   "id": "b5769402-bf6c-4a77-a9bd-ea81d2466b4c",
   "metadata": {},
   "outputs": [],
   "source": [
    "# ploting a count plt for loan status for two varaibles Fully Paid and Charged Off\n",
    "sns.countplot(data=main_csv,x=main_csv['year'])\n",
    "plt.title('loan issued year count plot')\n",
    "plt.xlabel('years')\n",
    "plt.ylabel('Total numbers of loans')\n",
    "plt.show()"
   ]
  },
  {
   "cell_type": "markdown",
   "id": "d54f4c93-84ff-4d6e-b9b0-f8140a587f03",
   "metadata": {},
   "source": [
    "##### In above counter plot we able to seen that In 2015 they approved highest loans and in 2007 lowest loan the series of year no. of loan issued- 2007 < 2008 < 2009 < 2010 < 2011 < 2018 < 2012 < 2013 < 2017 < 2014 < 2016 < 2018"
   ]
  },
  {
   "cell_type": "code",
   "execution_count": null,
   "id": "a40678e2-2b89-4bb0-94b1-5d6a0f701e92",
   "metadata": {},
   "outputs": [],
   "source": [
    "# updating data of employ length\n",
    "main_csv[\"emp_length\"]= main_csv[\"emp_length\"].str.replace(\"10+ years\", \"10\")\n",
    "main_csv[\"emp_length\"]= main_csv[\"emp_length\"].str.replace(\"< 1 year\", \"0\")\n",
    "main_csv[\"emp_length\"]= main_csv[\"emp_length\"].str.replace(\"years\", \"\")\n",
    "main_csv[\"emp_length\"]= main_csv[\"emp_length\"].str.replace(\"year\", \"\")\n",
    "main_csv[\"emp_length\"]= main_csv[\"emp_length\"].str.replace(\"+\", \"\")"
   ]
  },
  {
   "cell_type": "code",
   "execution_count": null,
   "id": "1ea01b28-713d-4f36-9cf1-3f83be3e4b7d",
   "metadata": {},
   "outputs": [],
   "source": [
    "main_csv[\"title\"].fillna(\"NA\", inplace=True)\n",
    "main_csv[\"emp_title\"].fillna(\"NA\", inplace=True)"
   ]
  },
  {
   "cell_type": "code",
   "execution_count": null,
   "id": "c6c2a3d6-0274-4bb7-bd65-f78f3c90ea00",
   "metadata": {},
   "outputs": [],
   "source": [
    "main_csv['home_ownership'].value_counts()"
   ]
  },
  {
   "cell_type": "code",
   "execution_count": null,
   "id": "5f6e0809-f792-4db7-b719-aac04cfb7b6c",
   "metadata": {},
   "outputs": [],
   "source": [
    "# dropping the rows of home_ownership which have NONE values-\n",
    "main_csv = main_csv[main_csv['home_ownership'] != 'NONE']"
   ]
  },
  {
   "cell_type": "code",
   "execution_count": null,
   "id": "c0e49407-811d-4773-940d-9a65ec9be932",
   "metadata": {},
   "outputs": [],
   "source": [
    "main_csv.info()"
   ]
  },
  {
   "cell_type": "code",
   "execution_count": null,
   "id": "b1ae9eae-1c07-44b7-830f-8d9083950f0a",
   "metadata": {},
   "outputs": [],
   "source": [
    "# converting object data type into numeric data type\n",
    "cols = ['loan_amnt','funded_amnt','funded_amnt_inv','installment','annual_inc','dti','emp_length']\n",
    "main_csv[cols] = main_csv[cols].apply(pd.to_numeric)"
   ]
  },
  {
   "cell_type": "code",
   "execution_count": null,
   "id": "28632f9d-75e2-4aea-9222-ff35beae2837",
   "metadata": {},
   "outputs": [],
   "source": [
    "msno.matrix(main_csv)"
   ]
  },
  {
   "cell_type": "code",
   "execution_count": null,
   "id": "20ca93c7-9d06-4ba0-a0f2-da38dd8ef27f",
   "metadata": {
    "scrolled": true
   },
   "outputs": [],
   "source": [
    "print(main_csv['emp_title'].value_counts().head(50))"
   ]
  },
  {
   "cell_type": "code",
   "execution_count": null,
   "id": "a687d531-04b6-4630-90e5-7167be0e4ddc",
   "metadata": {},
   "outputs": [],
   "source": [
    "value_counts = main_csv['emp_title'].value_counts()\n",
    "value_counts.to_csv('emp_title_counts.csv')"
   ]
  },
  {
   "cell_type": "code",
   "execution_count": null,
   "id": "aa8e1263-dac6-47ab-a821-0783400b494a",
   "metadata": {},
   "outputs": [],
   "source": [
    "emp_title = pd.read_csv('emp_title_counts.csv')\n",
    "emp_title.shape"
   ]
  },
  {
   "cell_type": "code",
   "execution_count": null,
   "id": "e41a8c7f-30d6-4a47-8c28-6c9716b0b95a",
   "metadata": {},
   "outputs": [],
   "source": [
    "# After analysing Data of title and emp_title able to analyse its not usable so droping these two columns-\n",
    "main_csv=main_csv = main_csv.drop(['title','emp_title'], axis = 1)"
   ]
  },
  {
   "cell_type": "code",
   "execution_count": null,
   "id": "0eaf6628-3169-4a9d-baf4-b4da6ee9e8bc",
   "metadata": {},
   "outputs": [],
   "source": [
    "main_csv.shape"
   ]
  },
  {
   "cell_type": "code",
   "execution_count": null,
   "id": "bd2ea039-f780-40f9-9ceb-47af66e9bceb",
   "metadata": {
    "scrolled": true
   },
   "outputs": [],
   "source": [
    "main_csv.isnull().sum()"
   ]
  },
  {
   "cell_type": "markdown",
   "id": "c775ba7e-80ea-4673-8809-4aafd9489b44",
   "metadata": {},
   "source": [
    "from sklearn.impute import KNNImputer\n",
    "\n",
    "imputer = KNNImputer(n_neighbors=5)  # Adjust n_neighbors as needed\n",
    "\n",
    "imputer.fit(main_csv.select_dtypes('number'))\n",
    "\n",
    "df_imputed = imputer.transform(main_csv.select_dtypes('number'))\n",
    "\n",
    "df_imputed = pd.DataFrame(df_imputed, columns=main_csv.select_dtypes('number').columns)"
   ]
  },
  {
   "cell_type": "code",
   "execution_count": null,
   "id": "5b14229d-58cc-47fe-85a9-74d064f140d7",
   "metadata": {},
   "outputs": [],
   "source": [
    "for col in main_csv.select_dtypes('number'):\n",
    "    main_csv[col] = main_csv[col].fillna(main_csv[col].median())"
   ]
  },
  {
   "cell_type": "code",
   "execution_count": null,
   "id": "c5825255-83ae-4667-9e4f-7e68f903ef87",
   "metadata": {},
   "outputs": [],
   "source": [
    "main_csv.isnull().sum()"
   ]
  },
  {
   "cell_type": "markdown",
   "id": "46db64e7-eada-4737-b99e-270600afa149",
   "metadata": {},
   "source": [
    "# Outliers treatmernt"
   ]
  },
  {
   "cell_type": "markdown",
   "id": "fd7f0eaa-b12d-4e08-b3f8-76bba0f5225b",
   "metadata": {},
   "source": [
    "#### for numerical datatypes variable"
   ]
  },
  {
   "cell_type": "code",
   "execution_count": null,
   "id": "29b3f1d4-5ecf-4db4-8efa-7f64ddcd3d62",
   "metadata": {
    "scrolled": true
   },
   "outputs": [],
   "source": [
    "main_csv.info()"
   ]
  },
  {
   "cell_type": "code",
   "execution_count": null,
   "id": "b6e8c9c4-a889-4517-825e-82a4df8abf1e",
   "metadata": {},
   "outputs": [],
   "source": [
    "main_csv.head()"
   ]
  },
  {
   "cell_type": "code",
   "execution_count": null,
   "id": "6afd6a18-f806-4f52-af67-0b6131c1ed85",
   "metadata": {
    "scrolled": true
   },
   "outputs": [],
   "source": [
    "main_csv.isnull().sum()"
   ]
  },
  {
   "cell_type": "code",
   "execution_count": null,
   "id": "16d4b353-7bfa-4d4b-8632-81ae4ee72d90",
   "metadata": {},
   "outputs": [],
   "source": [
    "# Check for empty DataFrame\n",
    "if len(main_csv) == 0:\n",
    "    print(\"main_csv DataFrame is empty!\")\n",
    "    # Handle empty DataFrame (e.g., exit or populate with data)\n",
    "\n",
    "# Check data type of loan_amnt\n",
    "if not pd.api.types.is_numeric_dtype(main_csv['loan_amnt']):\n",
    "    try:\n",
    "        main_csv['loan_amnt'] = pd.to_numeric(main_csv['loan_amnt'], errors='coerce')\n",
    "    except:\n",
    "        print(\"Error converting loan_amnt to numeric\")\n",
    "        # Handle conversion error (e.g., clean data or skip plotting)\n",
    "\n",
    "# Reset index (optional, if index mismatch is suspected)\n",
    "main_csv = main_csv.reset_index(drop=True)\n",
    "\n",
    "# Try creating the boxplot again\n",
    "for col in main_csv.select_dtypes('int').columns:\n",
    "    sns.boxplot(main_csv[col])\n",
    "    plt.show()  # Display the plot"
   ]
  },
  {
   "cell_type": "code",
   "execution_count": null,
   "id": "f85a5efe-1ef9-4a1e-9854-aecece482693",
   "metadata": {},
   "outputs": [],
   "source": [
    "import seaborn as sns\n",
    "import matplotlib.pyplot as plt\n",
    "\n",
    "# Assuming 'main_csv' is your DataFrame containing numerical columns\n",
    "for col in main_csv.select_dtypes(include='float64'):  # Specify data type explicitly\n",
    "    sns.boxplot(x=col, data=main_csv)  # Set 'x' as the variable for boxplot\n",
    "    plt.title(f\"Distribution of {col}\")  # Add informative title\n",
    "    plt.xlabel(col)  # Add label for x-axis\n",
    "    plt.ylabel(\"Value\")  # Add label for y-axis\n",
    "    plt.show()\n",
    "\n",
    "plt.tight_layout()  # Adjust spacing between subplots (after all plots are created)"
   ]
  },
  {
   "cell_type": "code",
   "execution_count": null,
   "id": "987b9e7a-cb62-48fe-b25f-6ca9b7a18a9b",
   "metadata": {},
   "outputs": [],
   "source": [
    "main_csv.head()"
   ]
  },
  {
   "cell_type": "code",
   "execution_count": null,
   "id": "e59d2298-fc42-4fbf-8778-7d3b639ac925",
   "metadata": {
    "scrolled": true
   },
   "outputs": [],
   "source": [
    "main_csv.isnull().sum()"
   ]
  },
  {
   "cell_type": "code",
   "execution_count": null,
   "id": "ed66c346-e76e-4653-8fc6-e53390325c76",
   "metadata": {},
   "outputs": [],
   "source": [
    "main_csv.info()"
   ]
  },
  {
   "cell_type": "code",
   "execution_count": null,
   "id": "60cd5c57-7030-4cf5-a897-9f7a15752b29",
   "metadata": {},
   "outputs": [],
   "source": [
    "annual_inc95 = main_csv['annual_inc'].quantile(0.95)\n",
    "main_csv = main_csv[main_csv['annual_inc'] <= annual_inc95]"
   ]
  },
  {
   "cell_type": "code",
   "execution_count": null,
   "id": "455eff01-1e31-4fa8-b8e5-ee9aa0c82cb8",
   "metadata": {},
   "outputs": [],
   "source": [
    "\n",
    "dti95 = main_csv['dti'].quantile(0.95)\n",
    "main_csv = main_csv[main_csv['dti'] <= dti95]"
   ]
  },
  {
   "cell_type": "markdown",
   "id": "c0636fb8-d776-47ba-b4be-877683c3386a",
   "metadata": {},
   "source": [
    "# Univariate Analysis"
   ]
  },
  {
   "cell_type": "markdown",
   "id": "8be9c363-80dc-4d7e-be98-2f4a93100365",
   "metadata": {},
   "source": [
    "Univariate numerical variable analysis\n",
    "loan_amnt\n",
    "\n",
    "funded_amnt\n",
    "\n",
    "funded_amnt_inv\n",
    "\n",
    "int_rate\n",
    "\n",
    "installment\n",
    "\n",
    "annual_inc\n",
    "\n",
    "emp_length\n",
    "\n",
    "dti\n",
    "\n",
    "month\n",
    "\n",
    "year"
   ]
  },
  {
   "cell_type": "code",
   "execution_count": null,
   "id": "5bef84de-1bd2-4198-8bb5-9b59533e9190",
   "metadata": {},
   "outputs": [],
   "source": []
  },
  {
   "cell_type": "code",
   "execution_count": null,
   "id": "b72de509-c210-4a2e-b4ee-63709dc525f9",
   "metadata": {},
   "outputs": [],
   "source": [
    "#setting figure size of plot\n",
    "plt.figure(figsize=(20,4))\n",
    "\n",
    "#subplot index\n",
    "plt.subplot(1,3,1)\n",
    "\n",
    "#Distribution plot\n",
    "sns.distplot(main_csv['loan_amnt'])\n",
    "\n",
    "#subplot index\n",
    "plt.subplot(1,3,2)\n",
    "\n",
    "#Distribution plot\n",
    "sns.distplot(main_csv['funded_amnt'])\n",
    "\n",
    "#subplot index\n",
    "plt.subplot(1,3,3)\n",
    "\n",
    "#Distribution plot\n",
    "sns.distplot(main_csv['funded_amnt_inv'])\n",
    "plt.show()"
   ]
  },
  {
   "cell_type": "code",
   "execution_count": null,
   "id": "cde2959f-ca1a-4c8f-8507-5a83d57a8a62",
   "metadata": {},
   "outputs": [],
   "source": [
    "# count plot for emp_length and \n",
    "\n",
    "print(main_csv['emp_length'].value_counts())\n",
    "plt.figure(figsize=(20,4))\n",
    "plt.subplot(1,2,1)\n",
    "\n",
    "sns.countplot(data=main_csv,x=main_csv['emp_length'])\n",
    "plt.ylabel('Total numbers of loans')\n",
    "\n",
    "plt.subplot(1,2,2)\n",
    "\n",
    "sns.countplot(data=main_csv,x='emp_length',hue='loan_status')\n",
    "plt.suptitle('loan issued emp_length count plot')\n",
    "\n",
    "plt.ylabel('Total numbers of loans')\n",
    "plt.show()"
   ]
  },
  {
   "cell_type": "markdown",
   "id": "49b61b69-4aa2-47a8-bb4d-e9567fb34d5a",
   "metadata": {},
   "source": [
    "### Insights-\n",
    "More then 10 years experience employee have majority borrower\n",
    "\n",
    "More thne 10 yeras employee charged off in majority"
   ]
  },
  {
   "cell_type": "code",
   "execution_count": null,
   "id": "374fcd05-2e7f-450e-a261-c752c7fd380f",
   "metadata": {},
   "outputs": [],
   "source": []
  },
  {
   "cell_type": "code",
   "execution_count": null,
   "id": "12936d60-63a0-4e0f-b370-728a7b017261",
   "metadata": {},
   "outputs": [],
   "source": [
    "import seaborn as sns\n",
    "import matplotlib.pyplot as plt\n",
    "import pandas as pd  # Assuming 'main_csv' is a pandas DataFrame\n",
    "\n",
    "# Check DTI range (optional)\n",
    "print(\"Minimum DTI:\", main_csv['dti'].min())\n",
    "print(\"Maximum DTI:\", main_csv['dti'].max())\n",
    "\n",
    "# First plot (distribution of dti)\n",
    "sns.displot(data=main_csv, x='dti', bins=15, kde=True)\n",
    "\n",
    "# Adjust x-axis ticks if necessary based on data range\n",
    "data_min = main_csv['dti'].min()\n",
    "data_max = main_csv['dti'].max()\n",
    "adjusted_ticks = range(int(data_min), int(data_max + 1), 5)  # Round to nearest integers\n",
    "plt.xticks(adjusted_ticks)\n",
    "\n",
    "plt.title('Loan Issued DTI Distribution')\n",
    "plt.xlabel('DTI')\n",
    "plt.ylabel('Total Number of Loans')\n",
    "plt.grid(True)\n",
    "plt.show()\n",
    "\n",
    "# Second plot (distribution of dti by loan status)\n",
    "sns.displot(data=main_csv, x='dti', hue='loan_status', bins=15, kde=True)\n",
    "\n",
    "# No need to adjust ticks here (reuse adjusted_ticks if necessary)\n",
    "# plt.xticks(adjusted_ticks)  # Uncomment if needed\n",
    "\n",
    "plt.title('Loan Issued DTI Distribution by Loan Status')\n",
    "plt.ylabel('Total Number of Loans')\n",
    "plt.show()"
   ]
  },
  {
   "cell_type": "markdown",
   "id": "48917867-87aa-4bb2-adf1-639c75060ce9",
   "metadata": {},
   "source": [
    "### Insights\r",
    "Majority of borrowers have greter debit respect to monthly earnings for dti ratio in between 9 to 30 and those are also in majority of charged off.k"
   ]
  },
  {
   "cell_type": "code",
   "execution_count": null,
   "id": "96c3a190-fc0c-4495-957a-c641d6753a5d",
   "metadata": {},
   "outputs": [],
   "source": [
    "# distribution plot for loan_amnt and \n",
    "sns.displot(data=main_csv,x=main_csv['loan_amnt'],bins=15,kde=True)\n",
    "plt.title('loan issued loan_amnt dis plot')\n",
    "plt.xlabel('loan_amnt')\n",
    "plt.ylabel('Total numbers of loans')\n",
    "plt.grid(True);\n",
    "plt.show()\n",
    "\n",
    "sns.displot(data=main_csv,x='loan_amnt',hue='loan_status',bins=15,kde=True)\n",
    "plt.title('loan issued loan_amnt dis plot')\n",
    "plt.ylabel('Total numbers of loans')\n",
    "plt.show()"
   ]
  },
  {
   "cell_type": "markdown",
   "id": "e5d5fed7-5531-43d1-a103-6c4bbfffe3bc",
   "metadata": {},
   "source": [
    "### Insights\n",
    "Majority of borrowers applied for loan amount between 5k to 18k majority of charged off which applied for loan amount 4k to 12k"
   ]
  },
  {
   "cell_type": "code",
   "execution_count": null,
   "id": "ef9989ee-2909-423c-9fda-99e7270a8828",
   "metadata": {},
   "outputs": [],
   "source": [
    "# distribution plot for installment and \n",
    "plt.figure(figsize=(15,4))\n",
    "\n",
    "sns.displot(data=main_csv,x=main_csv['installment'],bins=15,kde=True)\n",
    "plt.title('loan issued installment dis plot')\n",
    "plt.xlabel('installment')\n",
    "plt.ylabel('Total numbers of loans')\n",
    "plt.grid(True);\n",
    "plt.show()\n",
    "\n",
    "\n",
    "\n",
    "\n",
    "sns.displot(data=main_csv,x='installment',hue='loan_status',bins=15,kde=True)\n",
    "plt.title('loan issued installment dis plot')\n",
    "plt.ylabel('Total numbers of loans')\n",
    "plt.grid(True)\n",
    "plt.show()"
   ]
  },
  {
   "cell_type": "markdown",
   "id": "049f004c-6e68-46ef-8d45-57bc1913aa6f",
   "metadata": {},
   "source": [
    "### Insights\n",
    "From Installment data, we can say that most of them have taken loan who paying installment inbetween 200 to 650.\n",
    "\n",
    "Charged Off loan status is also high for same range(200-650)"
   ]
  },
  {
   "cell_type": "code",
   "execution_count": null,
   "id": "0d97702b-df79-4de5-8d9e-cfb83879824b",
   "metadata": {},
   "outputs": [],
   "source": [
    "# count plot for year and \n",
    "\n",
    "print(main_csv['year'].value_counts())\n",
    "plt.figure(figsize=(15,4))\n",
    "plt.subplot(1,2,1)\n",
    "\n",
    "sns.countplot(data=main_csv,x=main_csv['year'])\n",
    "plt.ylabel('Total numbers of loans')\n",
    "\n",
    "plt.subplot(1,2,2)\n",
    "\n",
    "sns.countplot(data=main_csv,x='year',hue='loan_status')\n",
    "plt.ylabel('Total numbers of loans')\n",
    "\n",
    "plt.suptitle('loan issued year count plot')\n",
    "plt.grid(True)\n",
    "plt.show()"
   ]
  },
  {
   "cell_type": "markdown",
   "id": "9215300a-4c1e-40eb-86c0-8677431a70ae",
   "metadata": {},
   "source": [
    "### Insights\n",
    "From year wise data, we can say that most of them have taken loan in year 2015 and its increasing from 2007 to 2015 continuously and showing a decline after 2015 till 2018\n",
    "\n",
    "Charged Off loan status is also high for same year"
   ]
  },
  {
   "cell_type": "code",
   "execution_count": null,
   "id": "22839862-910d-46d7-aff7-7a1eae3883ad",
   "metadata": {},
   "outputs": [],
   "source": [
    "# count plot for month and\n",
    "\n",
    "\n",
    "print(main_csv['month'].value_counts())\n",
    "plt.figure(figsize=(15,4))\n",
    "plt.subplot(1,2,1)\n",
    "\n",
    "sns.countplot(data=main_csv,x=main_csv['month'])\n",
    "plt.ylabel('Total numbers of loans')\n",
    "\n",
    "plt.subplot(1,2,2)\n",
    "\n",
    "sns.countplot(data=main_csv,x='month',hue='loan_status')\n",
    "plt.ylabel('Total numbers of loans')\n",
    "\n",
    "plt.suptitle('loan issued month count plot')\n",
    "plt.grid(True)\n",
    "plt.show()"
   ]
  },
  {
   "cell_type": "markdown",
   "id": "9dfebea0-3674-4e2a-8778-f19a14a3c475",
   "metadata": {},
   "source": [
    "### Insights\n",
    "From monthly wise data, we can say that most of them have taken loan in year's last quarter.\n",
    "\n",
    "Charged Off loan status is also high for last quarter"
   ]
  },
  {
   "cell_type": "code",
   "execution_count": null,
   "id": "06d28375-cf79-4157-a138-0b1f1870ffa1",
   "metadata": {},
   "outputs": [],
   "source": [
    "# distribution plot for int_rate and \n",
    "sns.displot(data=main_csv,x=main_csv['int_rate'],bins=20,kde=True)\n",
    "plt.title('loan issued int_rate dis plot')\n",
    "plt.ylabel('Total numbers of loans')\n",
    "plt.grid(True);\n",
    "plt.show()\n",
    "\n",
    "\n",
    "sns.displot(data=main_csv,x='int_rate',hue='loan_status',bins=15,kde=True)\n",
    "plt.title('loan issued int_rate dis plot')\n",
    "plt.ylabel('Total numbers of loans')\n",
    "plt.grid(True)\n",
    "plt.show()"
   ]
  },
  {
   "cell_type": "markdown",
   "id": "86760dc3-4c73-4618-8911-85a39706501d",
   "metadata": {},
   "source": [
    "### Insights\n",
    "Borrowers no. increased between 5 to 12 but its going down in between 12 to 30. And same followings for charged off."
   ]
  },
  {
   "cell_type": "code",
   "execution_count": null,
   "id": "61e9e63d-2724-4c5e-873a-dc59ba9f2039",
   "metadata": {},
   "outputs": [],
   "source": [
    "# distribution plot for annual_inc and \n",
    "sns.displot(data=main_csv,x=main_csv['annual_inc'],bins=20,kde=True)\n",
    "plt.title('loan issued annual_inc dis plot')\n",
    "plt.xlabel('annual_inc')\n",
    "plt.ylabel('Total numbers of loans')\n",
    "plt.grid(True);\n",
    "plt.show()\n",
    "\n",
    "sns.displot(data=main_csv,x='annual_inc',hue='loan_status',bins=15,kde=True)\n",
    "plt.title('loan issued annual_inc dis plot')\n",
    "plt.ylabel('Total numbers of loans')\n",
    "plt.grid(True)\n",
    "plt.show()"
   ]
  },
  {
   "cell_type": "markdown",
   "id": "0711d368-7038-4c4e-a862-83b57a1e660b",
   "metadata": {},
   "source": [
    "### Insights\n",
    "Most of people taking loan which have lower(30k-80k) income and these chances have most probably to charged off repect to higher annual income"
   ]
  },
  {
   "cell_type": "markdown",
   "id": "ee26a017-002e-47e0-abe5-2251586419ab",
   "metadata": {},
   "source": [
    "# unordered categorical data analysis\r\n",
    "loan term"
   ]
  },
  {
   "cell_type": "code",
   "execution_count": null,
   "id": "c03146ce-93a6-458f-bca8-9473f37fc273",
   "metadata": {},
   "outputs": [],
   "source": [
    "# count plot for term and\n",
    "print(main_csv['term'].value_counts())\n",
    "plt.figure(figsize=(15,4))\n",
    "plt.subplot(1,2,1)\n",
    "\n",
    "sns.countplot(data=main_csv,x=main_csv['term'])\n",
    "plt.ylabel('Total numbers of loans')\n",
    "\n",
    "plt.subplot(1,2,2)\n",
    "\n",
    "sns.countplot(data=main_csv,x='term',hue='loan_status')\n",
    "plt.ylabel('Total numbers of loans')\n",
    "\n",
    "plt.suptitle('loan issued term count plot')\n",
    "plt.grid(True)\n",
    "plt.show()"
   ]
  },
  {
   "cell_type": "markdown",
   "id": "153b2fcc-dbb9-4c63-8406-3db6919ab122",
   "metadata": {},
   "source": [
    "### Insights\n",
    "majority of borrowers taken loan for 36 months and most chances of charged off is taken loan for 60 months"
   ]
  },
  {
   "cell_type": "markdown",
   "id": "685b3518-a9fa-4168-abd3-7378452e5466",
   "metadata": {},
   "source": [
    "# orderd categorical Data analysis\n",
    "loan_status purpose home ownership state grade subgrade"
   ]
  },
  {
   "cell_type": "code",
   "execution_count": null,
   "id": "4b282e65-2495-4ccf-81bb-74ab9923d7ad",
   "metadata": {},
   "outputs": [],
   "source": [
    "# count plot for loan_status and\n",
    "sns.countplot(data=main_csv,x=main_csv['loan_status'])\n",
    "plt.title('loan issued loan_status count plot')\n",
    "plt.xlabel('loan_status')\n",
    "plt.ylabel('Total numbers of loans')\n",
    "plt.show()"
   ]
  },
  {
   "cell_type": "markdown",
   "id": "36b90312-4382-41ca-990f-0895d66da2b6",
   "metadata": {},
   "source": [
    "### Insights\n",
    "- More then 800000 persond fully paid the loan\n",
    "\n",
    "- More then 200000 charged off"
   ]
  },
  {
   "cell_type": "code",
   "execution_count": null,
   "id": "3504891e-a668-4f1e-9bb2-1f0f79a13a6d",
   "metadata": {},
   "outputs": [],
   "source": [
    "# count plot for purpose and\n",
    "\n",
    "print(main_csv['purpose'].value_counts())\n",
    "plt.figure(figsize=(20,7))\n",
    "plt.subplot(1,2,1)\n",
    "\n",
    "sns.countplot(data=main_csv,y=main_csv['purpose'])\n",
    "plt.xlabel('Total numbers of loans')\n",
    "\n",
    "plt.subplot(1,2,2)\n",
    "\n",
    "sns.countplot(data=main_csv,y='purpose',hue='loan_status')\n",
    "plt.xlabel('Total numbers of loans')\n",
    "\n",
    "plt.suptitle('loan issued purpose count plot')\n",
    "plt.grid(True)\n",
    "plt.show()"
   ]
  },
  {
   "cell_type": "markdown",
   "id": "067552da-2699-4624-9997-4df2b4c6120f",
   "metadata": {},
   "source": [
    "### Insights\n",
    "- Majority of borrowers loan apply for debt_consolation and paying bils of credi_card\n",
    "\n",
    "- Majority of charged off have from debt_consolation"
   ]
  },
  {
   "cell_type": "code",
   "execution_count": null,
   "id": "5ae3cd8a-3682-4d8c-ade9-0fc4a60735cd",
   "metadata": {
    "scrolled": true
   },
   "outputs": [],
   "source": [
    "# count plot for addr_state and\n",
    "\n",
    "#print(main_csv['addr_state'].value_counts())\n",
    "plt.figure(figsize=(20,15))\n",
    "plt.subplot(1,2,1)\n",
    "\n",
    "sns.countplot(data=main_csv,y=main_csv['addr_state'])\n",
    "plt.xlabel('Total numbers of loans')\n",
    "\n",
    "plt.subplot(1,2,2)\n",
    "\n",
    "sns.countplot(data=main_csv,y='addr_state',hue='loan_status')\n",
    "plt.xlabel('Total numbers of loans')\n",
    "\n",
    "plt.suptitle('loan issued addr_state count plot')\n",
    "plt.grid(True)\n",
    "plt.show()"
   ]
  },
  {
   "cell_type": "markdown",
   "id": "e4d224ab-a1bf-4388-8a8e-85ef3c858f75",
   "metadata": {},
   "source": [
    "### Insights\n",
    "- Majority of borrowers belongs to large urban cities like california, new york, texas, florida and majority of charged off have from california, new york etc."
   ]
  },
  {
   "cell_type": "code",
   "execution_count": null,
   "id": "44a6286f-527d-4100-a7de-e577a9f34470",
   "metadata": {},
   "outputs": [],
   "source": [
    "# count plot for home_ownership and\n",
    "print(main_csv['home_ownership'].value_counts())\n",
    "plt.figure(figsize=(10,7))\n",
    "plt.subplot(1,2,1)\n",
    "\n",
    "sns.countplot(data=main_csv,x=main_csv['home_ownership'])\n",
    "plt.ylabel('Total numbers of loans')\n",
    "plt.xticks(rotation=90, ha='right')\n",
    "\n",
    "plt.subplot(1,2,2)\n",
    "\n",
    "sns.countplot(data=main_csv,x='home_ownership',hue='loan_status')\n",
    "plt.ylabel('Total numbers of loans')\n",
    "plt.xticks(rotation=90, ha='right')\n",
    "\n",
    "\n",
    "plt.suptitle('loan issued home_ownership count plot')\n",
    "plt.grid(True)\n",
    "plt.show()"
   ]
  },
  {
   "cell_type": "markdown",
   "id": "17f261d8-d845-46bc-b891-1ba2d3606311",
   "metadata": {},
   "source": [
    "### Insights\n",
    "- Majority of pepoles taking loan is did't have ownership of house they coming from rent and Mortage category.\n",
    "\n",
    "- Charged Off loan status is also high for same catrgries (Rent and Mortage)"
   ]
  },
  {
   "cell_type": "code",
   "execution_count": null,
   "id": "503b6959-ffc0-47a2-8fff-1d77c6dd3893",
   "metadata": {},
   "outputs": [],
   "source": [
    "# count plot for grade and\n",
    "print(main_csv['grade'].value_counts())\n",
    "plt.figure(figsize=(15,7))\n",
    "plt.subplot(1,2,1)\n",
    "\n",
    "sns.countplot(data=main_csv,x=main_csv['grade'])\n",
    "plt.ylabel('Total numbers of loans')\n",
    "\n",
    "plt.subplot(1,2,2)\n",
    "\n",
    "sns.countplot(data=main_csv,x='grade',hue='loan_status')\n",
    "plt.ylabel('Total numbers of loans')\n",
    "\n",
    "plt.suptitle('loan issued grade count plot')\n",
    "plt.grid(True)\n",
    "plt.show()"
   ]
  },
  {
   "cell_type": "markdown",
   "id": "4ee3fd6d-fcf3-4ed2-bb6c-05dc0ffc344c",
   "metadata": {},
   "source": [
    "### Insights\n",
    "- we can say that most of them have taken loan is coming from grade B C A D E and F.\n",
    "\n",
    "- But charged Off loan status is high for grade C D B E and A."
   ]
  },
  {
   "cell_type": "code",
   "execution_count": null,
   "id": "c2151a6a-02df-42bf-873f-b07df93839ab",
   "metadata": {},
   "outputs": [],
   "source": [
    "# count plot for sub_grade and\n",
    "print(main_csv['sub_grade'].value_counts())\n",
    "plt.figure(figsize=(20,5))\n",
    "plt.subplot(1,2,1)\n",
    "\n",
    "sns.countplot(data=main_csv,x=main_csv['sub_grade'])\n",
    "plt.ylabel('Total numbers of loans')\n",
    "plt.xticks(rotation=90, ha='right')\n",
    "\n",
    "plt.subplot(1,2,2)\n",
    "\n",
    "sns.countplot(data=main_csv,x='sub_grade',hue='loan_status')\n",
    "plt.ylabel('Total numbers of loans')\n",
    "plt.xticks(rotation=90, ha='right')\n",
    "\n",
    "plt.suptitle('loan issued sub_grade count plot')\n",
    "plt.grid(True)\n",
    "plt.show()"
   ]
  },
  {
   "cell_type": "code",
   "execution_count": null,
   "id": "d92234c9-2c34-4470-8281-82e6474d9608",
   "metadata": {},
   "outputs": [],
   "source": [
    "# Assuming 'main_csv' is a pandas DataFrame\n",
    "\n",
    "# Get sub-grade counts in descending order\n",
    "sub_grade_counts = main_csv['sub_grade'].value_counts().sort_values(ascending=False)\n",
    "\n",
    "# First plot (total count)\n",
    "plt.figure(figsize=(20, 5))\n",
    "plt.subplot(1, 2, 1)\n",
    "\n",
    "sns.countplot(data=main_csv, x=main_csv['sub_grade'], order=sub_grade_counts.index)\n",
    "plt.ylabel('Total Numbers of Loans')\n",
    "plt.xticks(rotation=90, ha='right')\n",
    "\n",
    "# Second plot (count by loan status)\n",
    "plt.subplot(1, 2, 2)\n",
    "\n",
    "sns.countplot(data=main_csv, x='sub_grade', hue='loan_status', order=sub_grade_counts.index)\n",
    "plt.ylabel('Total Numbers of Loans')\n",
    "plt.xticks(rotation=90, ha='right')\n",
    "\n",
    "plt.suptitle('Loan Issued Sub-Grade Count Plot')\n",
    "plt.grid(True)\n",
    "plt.show()"
   ]
  },
  {
   "cell_type": "markdown",
   "id": "380013fc-e154-4ae9-bcbf-b822bee55ac0",
   "metadata": {},
   "source": [
    "### Insights\n",
    "looking subgrade data, we can say that most of them have taken loan is coming under C1 B4 B3 B5 C2 B3 C3 etc. Charged Off loan status is also high for same sub-grades."
   ]
  },
  {
   "cell_type": "code",
   "execution_count": null,
   "id": "df28d157-fe8d-41fe-8ea8-ca45cadcd5c7",
   "metadata": {},
   "outputs": [],
   "source": [
    "# count plot for verification_status\n",
    "print(main_csv['verification_status'].value_counts())\n",
    "plt.figure(figsize=(15,7))\n",
    "plt.subplot(1,2,1)\n",
    "\n",
    "sns.countplot(data=main_csv,x=main_csv['verification_status'])\n",
    "plt.ylabel('Total numbers of loans')\n",
    "\n",
    "plt.subplot(1,2,2)\n",
    "\n",
    "sns.countplot(data=main_csv,x='verification_status',hue='loan_status')\n",
    "plt.ylabel('Total numbers of loans')\n",
    "\n",
    "plt.suptitle('loan issued verification_status count plot')\n",
    "plt.grid(True)\n",
    "plt.show()"
   ]
  },
  {
   "cell_type": "markdown",
   "id": "a6fd0e63-da8c-4218-bcdd-14f7714337f9",
   "metadata": {},
   "source": [
    "### Insights\n",
    "mostly 50% borrowers verified or source verified and majority of chargedoff happen also from the same category"
   ]
  },
  {
   "cell_type": "markdown",
   "id": "e36353e8-8b78-47ce-9e11-1261441ee6d3",
   "metadata": {},
   "source": [
    "# Creating new dataframe for charged_off"
   ]
  },
  {
   "cell_type": "code",
   "execution_count": null,
   "id": "959816d2-5be7-49ff-ae45-c21a7c50a495",
   "metadata": {},
   "outputs": [],
   "source": [
    "# Derived columns\n",
    "main_csv['loan_amnt_cats'] = pd.cut(main_csv['loan_amnt'], [0, 7000, 14000, 21000, 28000, 35000], labels=['0-7000', '7000-14000', '14000-21000', '21000-28000', '28000 +'])\n",
    "\n",
    "# categorise annual incomes into buckets which will help in analysis further in bivariate analysis.\n",
    "main_csv['annual_inc_cats'] = pd.cut(main_csv['annual_inc'], [0, 20000, 40000, 60000, 80000,1000000], labels=['0-20000', '20000-40000', '40000-60000', '60000-80000', '80000 +'])\n",
    "\n",
    "# categorise intrest rates into buckets which will help in analysis further in bivariate analysis.\n",
    "main_csv['int_rate_cats'] = pd.cut(main_csv['int_rate'], [0, 10, 12.5, 16, 20], labels=['0-10', '10-13', '12.5-16', '16 +'])\n",
    "\n",
    "# categorise dti into buckets for bivariate analysis.\n",
    "main_csv['dti_cats'] = pd.cut(main_csv['dti'], [0, 5, 10, 15, 20, 25], labels=['0-5', '05-10', '10-15', '15-20', '25+'])"
   ]
  },
  {
   "cell_type": "code",
   "execution_count": null,
   "id": "2ea49739-5bfa-470f-9070-411c1961b9f2",
   "metadata": {},
   "outputs": [],
   "source": [
    "charged_off_main_csv=main_csv.loc[main_csv['loan_status']=='Charged Off']"
   ]
  },
  {
   "cell_type": "code",
   "execution_count": null,
   "id": "916fc04e-d6e2-4c4b-ab91-451177015078",
   "metadata": {},
   "outputs": [],
   "source": [
    "charged_off_main_csv.head()"
   ]
  },
  {
   "cell_type": "code",
   "execution_count": null,
   "id": "5afbc3e9-21f6-4412-abe4-3b336e49fdc1",
   "metadata": {},
   "outputs": [],
   "source": [
    "charged_off_main_csv.shape"
   ]
  },
  {
   "cell_type": "code",
   "execution_count": null,
   "id": "88b06d77-c1bd-4d41-b848-45617c894dd8",
   "metadata": {
    "scrolled": true
   },
   "outputs": [],
   "source": [
    "charged_off_main_csv.info()"
   ]
  },
  {
   "cell_type": "markdown",
   "id": "53573502-684b-4719-aedc-6d7fb2ee1eeb",
   "metadata": {},
   "source": [
    "# Univariate Segmented categorial analysis\r\n",
    "doing Analysis with new data frame charged_off data taken"
   ]
  },
  {
   "cell_type": "code",
   "execution_count": null,
   "id": "603b81ef-fc7e-4b17-a92f-3b00b44d027c",
   "metadata": {},
   "outputs": [],
   "source": [
    "charged_off_main_csv.select_dtypes('int').head()"
   ]
  },
  {
   "cell_type": "code",
   "execution_count": null,
   "id": "469b0f17-9d99-4c0a-a016-723b9c66db8d",
   "metadata": {},
   "outputs": [],
   "source": [
    "plt.figure(figsize=(10,5))\n",
    "sns.countplot(data=charged_off_main_csv,x='home_ownership',hue='purpose')\n",
    "plt.ylabel('Total numbers of Charged off')\n",
    "plt.tight_layout()\n",
    "plt.suptitle('home ownership distribution respect to purpose')\n",
    "plt.grid(True)\n",
    "plt.legend(loc='upper right')\n",
    "plt.show()"
   ]
  },
  {
   "cell_type": "markdown",
   "id": "9c1db6a7-1ac0-4350-8419-f8e84b9ace5d",
   "metadata": {},
   "source": [
    "### Insights\n",
    "most of chagrged off coming from who taking loan for debt_consolation and renting house."
   ]
  },
  {
   "cell_type": "code",
   "execution_count": null,
   "id": "e819e329-0f0a-4a9b-b423-637f0ea5c207",
   "metadata": {},
   "outputs": [],
   "source": [
    "plt.figure(figsize=(10,5))\n",
    "sns.countplot(data=charged_off_main_csv,x='home_ownership',hue='grade')\n",
    "plt.ylabel('Total numbers of Charged off')\n",
    "plt.tight_layout()\n",
    "plt.suptitle('home ownership distribution respect to grade')\n",
    "plt.grid(True)\n",
    "plt.legend(loc='upper right')\n",
    "plt.show()"
   ]
  },
  {
   "cell_type": "markdown",
   "id": "8c8f7a40-1a42-4316-becf-5d55c0a08114",
   "metadata": {},
   "source": [
    "### Insights\n",
    "Persons who leaving in rent and grade having C B D  E are have most no. of Charged Off"
   ]
  },
  {
   "cell_type": "code",
   "execution_count": null,
   "id": "6d71d6c8-7fc2-4242-b411-2c63ac42f7bd",
   "metadata": {},
   "outputs": [],
   "source": [
    "plt.figure(figsize=(10,5))\n",
    "sns.countplot(data=charged_off_main_csv,x='term',hue='grade')\n",
    "plt.ylabel('Total numbers of Charged off')\n",
    "plt.tight_layout()\n",
    "plt.suptitle('term distribution respect to grade')\n",
    "plt.grid(True)\n",
    "plt.legend(loc='upper right')\n",
    "plt.show()"
   ]
  },
  {
   "cell_type": "markdown",
   "id": "6525c82c-7e40-4f84-b6ef-572535ac8dec",
   "metadata": {},
   "source": [
    "### Insights\n",
    "- Mostly charged off for 36 months grade C and B\n",
    "- Mostly charged off for 60 months grade C and D"
   ]
  },
  {
   "cell_type": "code",
   "execution_count": null,
   "id": "7ba24245-b65e-4c2e-a6ea-4de50429c32f",
   "metadata": {},
   "outputs": [],
   "source": [
    "plt.figure(figsize=(10,5))\n",
    "sns.countplot(data=charged_off_main_csv,x='home_ownership',hue='term')\n",
    "plt.ylabel('Total numbers of Charged off')\n",
    "plt.tight_layout()\n",
    "plt.suptitle('home ownership distribution respect to term')\n",
    "plt.grid(True)\n",
    "plt.legend(loc='upper right')\n",
    "plt.show()"
   ]
  },
  {
   "cell_type": "markdown",
   "id": "01e26fc6-8e67-49a7-b1aa-5dd74db06398",
   "metadata": {},
   "source": [
    "### Insights\n",
    "Mostly charged off for rent 36 monts and leaving on Mortage"
   ]
  },
  {
   "cell_type": "code",
   "execution_count": null,
   "id": "303c360d-692e-4674-8e59-76b81229670b",
   "metadata": {},
   "outputs": [],
   "source": [
    "charged_off_main_csv.columns"
   ]
  },
  {
   "cell_type": "code",
   "execution_count": null,
   "id": "8a704baa-9c03-4b73-bd43-fe87896f7b16",
   "metadata": {},
   "outputs": [],
   "source": [
    "plt.figure(figsize=(10,5))\n",
    "sns.countplot(data=charged_off_main_csv,x='annual_inc_cats',hue='home_ownership')\n",
    "plt.ylabel('Total numbers of Charged off')\n",
    "plt.tight_layout()\n",
    "plt.suptitle('annual_inc_cats distribution respect to home_ownership')\n",
    "plt.grid(True)\n",
    "plt.legend(loc='upper right')\n",
    "plt.show()"
   ]
  },
  {
   "cell_type": "markdown",
   "id": "eab6411f-e663-4411-a21c-2f4c8d55450b",
   "metadata": {},
   "source": [
    "### Insights\n",
    "No. of pepoles Charged _off which annual_income have 20k to 60k which on living on rent"
   ]
  },
  {
   "cell_type": "code",
   "execution_count": null,
   "id": "5f624ef9-f56b-4c2d-bd30-1c4862a9b4ba",
   "metadata": {},
   "outputs": [],
   "source": [
    "plt.figure(figsize=(10,5))\n",
    "sns.countplot(data=charged_off_main_csv,x='int_rate_cats',hue='home_ownership')\n",
    "plt.ylabel('Total numbers of Charged off')\n",
    "plt.tight_layout()\n",
    "plt.suptitle('int_rate_cats distribution respect to term')\n",
    "plt.grid(True)\n",
    "plt.legend(loc='upper right')\n",
    "plt.show()"
   ]
  },
  {
   "cell_type": "markdown",
   "id": "08ac3567-6e3b-4ae1-b344-7d9e7d42c593",
   "metadata": {},
   "source": [
    "### Insights\n",
    "No. of majority pepole charged_off which one taking loan on 12.4 to 16 interest rate and leaving on rent."
   ]
  },
  {
   "cell_type": "markdown",
   "id": "58373a2c-487b-4ce7-bfa1-ffd2d1c67d89",
   "metadata": {},
   "source": [
    "# Bivariate Analysis\n",
    "taking loan amont with all varables"
   ]
  },
  {
   "cell_type": "code",
   "execution_count": null,
   "id": "c67c6b6c-156e-4ccc-a95d-b0261e91cfc3",
   "metadata": {},
   "outputs": [],
   "source": [
    "plt.figure(figsize=(15,4))\n",
    "plt.subplot(1,2,1)\n",
    "sns.boxplot(x=\"int_rate_cats\", y=\"loan_amnt\", data=main_csv)\n",
    "plt.title(\"Interest Rate vs loan amount\")\n",
    "plt.subplot(1,2,2)\n",
    "sns.boxplot(x=\"verification_status\", y=\"loan_amnt\", data=main_csv)\n",
    "plt.title(\"Verification Status vs loan amount \")\n",
    "plt.show()"
   ]
  },
  {
   "cell_type": "markdown",
   "id": "44340e34-582a-4aff-8f16-5a85cb98296b",
   "metadata": {},
   "source": [
    "### Insights\n",
    "- Interest rate have higher on higher loan amount\n",
    "- Verified pepole got higher loan amount respect to others"
   ]
  },
  {
   "cell_type": "code",
   "execution_count": null,
   "id": "2f37fafa-44b1-4696-b711-d79fdefea100",
   "metadata": {},
   "outputs": [],
   "source": [
    "plt.figure(figsize=(15,7))\n",
    "plt.subplot(1,2,1)\n",
    "sns.boxplot(x=\"year\", y=\"loan_amnt\", data=main_csv)\n",
    "plt.title(\"years vs loan amount\")\n",
    "\n",
    "plt.subplot(1,2,2)\n",
    "sns.boxplot(x=\"month\", y=\"loan_amnt\", data=main_csv)\n",
    "plt.title(\"months vs loan amount \")\n",
    "plt.show()"
   ]
  },
  {
   "cell_type": "markdown",
   "id": "0b306b79-6d09-4e5e-b26b-00d6e1e384e7",
   "metadata": {},
   "source": [
    "### Insights\n",
    "- loan amount increasing year by year\n",
    "- First of the month borrower geting higher loan amount"
   ]
  },
  {
   "cell_type": "code",
   "execution_count": null,
   "id": "52bc68c3-e065-4be7-b682-0ec032f2efab",
   "metadata": {},
   "outputs": [],
   "source": [
    "plt.figure(figsize=(10,4))\n",
    "plt.subplot(1,2,1)\n",
    "sns.boxplot(x=\"home_ownership\", y=\"loan_amnt\", data=main_csv)\n",
    "plt.title(\"home_ownership vs loan amount \")\n",
    "plt.figure(figsize=(10,7))\n",
    "plt.subplot(1,2,2)\n",
    "sns.boxplot(y=\"purpose\", x=\"loan_amnt\", data=main_csv)\n",
    "plt.title(\"  loan amount vs purpose\")\n",
    "plt.show()"
   ]
  },
  {
   "cell_type": "markdown",
   "id": "baa7d6fe-28b5-424e-8af6-3f62f65c9355",
   "metadata": {},
   "source": [
    "### Insights\n",
    "- Mortage persons are get higher amount respect to other categories of home ownership.\n",
    "- Small business alloted higher loan amount respect to others"
   ]
  },
  {
   "cell_type": "code",
   "execution_count": null,
   "id": "4e84b8bf-c1e6-4b22-ba72-c7b30995b1ab",
   "metadata": {},
   "outputs": [],
   "source": [
    "plt.figure(figsize=(15,7))\n",
    "plt.subplot(1,2,1)\n",
    "sns.boxplot(x=\"term\", y=\"loan_amnt\", data=main_csv)\n",
    "plt.title(\"term vs loan amount \")\n",
    "\n",
    "plt.subplot(1,2,2)\n",
    "sns.boxplot(x=\"grade\", y=\"loan_amnt\", data=main_csv)\n",
    "plt.title(\"grade vs loan amount \")\n",
    "plt.show()"
   ]
  },
  {
   "cell_type": "markdown",
   "id": "b35bee35-ff3f-4a6a-84b8-3b45caf97cf9",
   "metadata": {},
   "source": [
    "### Insights\n",
    "Persons who applied loan for 60 month term got hiagher loan amount\n",
    "Grade G and F got higher loan amount."
   ]
  },
  {
   "cell_type": "code",
   "execution_count": null,
   "id": "fb933159-d36e-4204-b45d-2c8bbe537dc8",
   "metadata": {},
   "outputs": [],
   "source": [
    "plt.figure(figsize=(15,10))\n",
    "\n",
    "plt.subplot(1,2,1)\n",
    "sns.boxplot(y=\"sub_grade\", x=\"loan_amnt\", data=main_csv)\n",
    "plt.title(\" loan amount vs sub_grade\")\n",
    "\n",
    "\n",
    "\n",
    "plt.subplot(1,2,2)\n",
    "sns.boxplot(x=\"emp_length\", y=\"loan_amnt\", data=main_csv)\n",
    "plt.title(\"emp_length vs loan amount \")\n",
    "\n",
    "\n",
    "plt.show()"
   ]
  },
  {
   "cell_type": "markdown",
   "id": "d4303ca1-72b9-4459-a397-cd6456f18fcc",
   "metadata": {},
   "source": [
    "### Insights\n",
    "- Sub Grade G and F got higher loan amount its following Grades\n",
    "- Persons who have more then 10 years experience got higher loan amount"
   ]
  },
  {
   "cell_type": "code",
   "execution_count": null,
   "id": "93ddf5a7-f8ea-4711-89af-394b663558e6",
   "metadata": {},
   "outputs": [],
   "source": [
    "plt.figure(figsize=(15,10))\n",
    "\n",
    "plt.subplot(1,1,1)\n",
    "sns.boxplot(x=\"loan_status\", y=\"loan_amnt\", data=main_csv)\n",
    "plt.title(\" loan_status vs loan_amnt\")\n",
    "plt.show()"
   ]
  },
  {
   "cell_type": "markdown",
   "id": "f67ab612-a18e-45e6-9e94-abd697bee174",
   "metadata": {},
   "source": [
    "### Insights\n",
    "Boroworrs who got charged_off alloted higher loan amount"
   ]
  },
  {
   "cell_type": "code",
   "execution_count": null,
   "id": "6ec1a4d2-bd8a-430b-a989-f06c6d29f2b3",
   "metadata": {},
   "outputs": [],
   "source": [
    "plt.figure(figsize=(15,10))\n",
    "\n",
    "plt.subplot(1,1,1)\n",
    "sns.boxplot(x=\"annual_inc_cats\", y=\"loan_amnt\", data=main_csv)\n",
    "plt.title(\" annual_inc_cats vs loan_amnt\")\n",
    "plt.show()"
   ]
  },
  {
   "cell_type": "markdown",
   "id": "8a7f2b8d-52b1-471e-b84f-930dc50d13e7",
   "metadata": {},
   "source": [
    "### Insights\n",
    "Boroworrs which one have higher annual income got alloted higher loan amount"
   ]
  },
  {
   "cell_type": "code",
   "execution_count": null,
   "id": "fe49fcac-b1a8-4182-b90b-00c1eec86616",
   "metadata": {},
   "outputs": [],
   "source": [
    "plt.figure(figsize=(15,10))\n",
    "\n",
    "plt.subplot(1,1,1)\n",
    "sns.boxplot(x=\"dti_cats\", y=\"loan_amnt\", data=main_csv)\n",
    "plt.title(\" dti_cats vs loan_amnt\")\n",
    "plt.show()"
   ]
  },
  {
   "cell_type": "markdown",
   "id": "0edadae5-87da-406b-99f0-3b59ce2501c6",
   "metadata": {},
   "source": [
    "### Insights\n",
    "Boroworrs which one have higher dti rate got alloted higher loan amount"
   ]
  },
  {
   "cell_type": "markdown",
   "id": "be1072a4-5aa0-4c4b-ae50-0cc6fbd32c4a",
   "metadata": {},
   "source": [
    "# Bivariate Analsys part 2"
   ]
  },
  {
   "cell_type": "markdown",
   "id": "d38319c1-c7ea-46ab-b428-1761c8e2a215",
   "metadata": {},
   "source": [
    "Now doing analysis with charged_off prportion with each variables"
   ]
  },
  {
   "cell_type": "code",
   "execution_count": null,
   "id": "2cb8c265-50cd-4884-b9ca-794d7ae09ce9",
   "metadata": {},
   "outputs": [],
   "source": [
    "# Derived columns\n",
    "purpose_vs_loan_status = main_csv.groupby(['purpose', 'loan_status']).loan_status.count().unstack().fillna(0).reset_index()\n",
    "purpose_vs_loan_status['Total'] = purpose_vs_loan_status['Charged Off'] + purpose_vs_loan_status['Fully Paid'] \n",
    "purpose_vs_loan_status['Chargedoff_Proportion'] = purpose_vs_loan_status['Charged Off'] / purpose_vs_loan_status['Total']"
   ]
  },
  {
   "cell_type": "code",
   "execution_count": null,
   "id": "3ca5f9b0-c03e-4c90-a273-1e04510f037d",
   "metadata": {},
   "outputs": [],
   "source": [
    "purpose_vs_loan_status"
   ]
  },
  {
   "cell_type": "code",
   "execution_count": null,
   "id": "4865c76c-17c8-421a-b2fa-f7297ad4f41c",
   "metadata": {},
   "outputs": [],
   "source": [
    "plt.figure(figsize=(15,8))\n",
    "plt.barh(y=purpose_vs_loan_status['purpose'],width=purpose_vs_loan_status['Chargedoff_Proportion'],data=purpose_vs_loan_status)\n",
    "plt.title('loan issued purpose_vs Chargedoff_Proportion count plot',fontsize=14)\n",
    "plt.ylabel('purpose',fontsize=14)\n",
    "plt.xlabel('Chargedoff_Proportion',fontsize=14)\n",
    "plt.grid(True)\n",
    "plt.show()"
   ]
  },
  {
   "cell_type": "markdown",
   "id": "14d7349a-596e-4464-9e0e-1d861f0a8dec",
   "metadata": {},
   "source": [
    "### Insights\n",
    "- Boroworrs which one taking loan for small business having 29.97% chances of charged_off\n",
    "\n",
    "- Boroworrs which one taking loan for wedding, major_purchases and car have low risk of charged_off."
   ]
  },
  {
   "cell_type": "code",
   "execution_count": null,
   "id": "ecb806a3-6373-4dda-a7b3-a44740015ed6",
   "metadata": {},
   "outputs": [],
   "source": [
    "# Derived columns\n",
    "annual_inc_cats_vs_loan_status = main_csv.groupby(['annual_inc_cats', 'loan_status']).loan_status.count().unstack().fillna(0).reset_index()\n",
    "annual_inc_cats_vs_loan_status['Total'] = annual_inc_cats_vs_loan_status['Charged Off'] + annual_inc_cats_vs_loan_status['Fully Paid'] \n",
    "annual_inc_cats_vs_loan_status['Chargedoff_Proportion'] = annual_inc_cats_vs_loan_status['Charged Off'] / annual_inc_cats_vs_loan_status['Total']\n",
    "annual_inc_cats_vs_loan_status"
   ]
  },
  {
   "cell_type": "code",
   "execution_count": null,
   "id": "ffd0ad71-8de3-4380-a675-66db0857e6c6",
   "metadata": {},
   "outputs": [],
   "source": [
    "plt.figure(figsize=(15,8))\n",
    "plt.bar(x=annual_inc_cats_vs_loan_status['annual_inc_cats'],height=annual_inc_cats_vs_loan_status['Chargedoff_Proportion'],data=annual_inc_cats_vs_loan_status)\n",
    "plt.title(' annual_inc_cats vs Chargedoff_Proportion count plot',fontsize=14)\n",
    "plt.xlabel('annual_inc_cats',fontsize=14)\n",
    "plt.ylabel('Chargedoff_Proportion',fontsize=14)\n",
    "plt.grid(True)\n",
    "plt.show()"
   ]
  },
  {
   "cell_type": "markdown",
   "id": "a381cb73-836a-4841-8440-24d0bb54af25",
   "metadata": {},
   "source": [
    "### Insights\n",
    "Boroworrs which one taking loan have lower income (0 to 20K) Have 24% risk of charged off"
   ]
  },
  {
   "cell_type": "code",
   "execution_count": null,
   "id": "937283ff-5aef-422c-a623-1c9a6d5f2b97",
   "metadata": {},
   "outputs": [],
   "source": [
    "# Derived columns\n",
    "loan_amnt_vs_loan_status = main_csv.groupby(['loan_amnt_cats', 'loan_status']).loan_status.count().unstack().fillna(0).reset_index()\n",
    "loan_amnt_vs_loan_status['Total'] = loan_amnt_vs_loan_status['Charged Off'] + loan_amnt_vs_loan_status['Fully Paid'] \n",
    "loan_amnt_vs_loan_status['Chargedoff_Proportion'] = loan_amnt_vs_loan_status['Charged Off'] / loan_amnt_vs_loan_status['Total']\n",
    "loan_amnt_vs_loan_status"
   ]
  },
  {
   "cell_type": "code",
   "execution_count": null,
   "id": "bf7a6de7-3e91-412e-bfc2-346aebcf75e4",
   "metadata": {},
   "outputs": [],
   "source": [
    "plt.figure(figsize=(15,8))\n",
    "plt.bar(x=loan_amnt_vs_loan_status['loan_amnt_cats'],height=loan_amnt_vs_loan_status['Chargedoff_Proportion'],data=loan_amnt_vs_loan_status)\n",
    "plt.title(' loan_amnt_cats vs Chargedoff_Proportion count plot',fontsize=14)\n",
    "plt.xlabel('loan_amnt_cats',fontsize=14)\n",
    "plt.ylabel('Chargedoff_Proportion',fontsize=14)\n",
    "plt.grid(True)\n",
    "plt.show()"
   ]
  },
  {
   "cell_type": "markdown",
   "id": "ffedb3ce-3c28-441a-9044-883f219f0f06",
   "metadata": {},
   "source": [
    "### Insights\n",
    "- Boroworrs which one taking loan of higher amount (more then 28K) have 25.75% of charged_off\n",
    "\n",
    "- Boroworrs which one taking loan of less amount(0 to 7K)have less risk of charged_off"
   ]
  },
  {
   "cell_type": "code",
   "execution_count": null,
   "id": "a95df996-69b0-4a06-8542-2d5e3e4d0287",
   "metadata": {
    "scrolled": true
   },
   "outputs": [],
   "source": [
    "# Derived columns\n",
    "addr_state_vs_loan_status = main_csv.groupby(['addr_state', 'loan_status']).loan_status.count().unstack().fillna(0).reset_index()\n",
    "addr_state_vs_loan_status['Total'] = addr_state_vs_loan_status['Charged Off'] + addr_state_vs_loan_status['Fully Paid'] \n",
    "addr_state_vs_loan_status['Chargedoff_Proportion'] = addr_state_vs_loan_status['Charged Off'] / addr_state_vs_loan_status['Total']\n",
    "addr_state_vs_loan_status"
   ]
  },
  {
   "cell_type": "code",
   "execution_count": null,
   "id": "a4658832-bc0b-4b5f-bb51-7c6c754ae495",
   "metadata": {},
   "outputs": [],
   "source": [
    "plt.figure(figsize=(25,8))\n",
    "plt.bar(x=addr_state_vs_loan_status['addr_state'],height=addr_state_vs_loan_status['Chargedoff_Proportion'],data=addr_state_vs_loan_status)\n",
    "plt.title(' addr_state vs Chargedoff_Proportion count plot',fontsize=14)\n",
    "plt.xlabel('addr_state',fontsize=14)\n",
    "plt.ylabel('Chargedoff_Proportion',fontsize=14)\n",
    "plt.grid(True)\n",
    "plt.show()"
   ]
  },
  {
   "cell_type": "markdown",
   "id": "3437cfa4-8d03-4b2b-812a-19ed7103184e",
   "metadata": {},
   "source": [
    "### Insights\n",
    "- Boroworrs which one taking loan coming from MS state have 25% of chances charged_off\n",
    "\n",
    "- Boroworrs which one taking loan coming from OR DC and ME have low rsik of charged_off"
   ]
  },
  {
   "cell_type": "markdown",
   "id": "8deb8fb1-2b4b-493d-9a58-f650ecc15121",
   "metadata": {},
   "source": [
    "# Multivariate Analysis"
   ]
  },
  {
   "cell_type": "code",
   "execution_count": null,
   "id": "3aa3b10f-6c3c-41b1-8f91-a2c4cc3e97ab",
   "metadata": {
    "scrolled": true
   },
   "outputs": [],
   "source": [
    "#finding correlation matrix\n",
    "loan_correlation = main_csv.select_dtypes('number').corr()\n",
    "loan_correlation"
   ]
  },
  {
   "cell_type": "code",
   "execution_count": null,
   "id": "034f837b-5164-410b-9601-05a347659494",
   "metadata": {},
   "outputs": [],
   "source": [
    "#plotting correaltion matrix on clustermap\n",
    "sns.clustermap(loan_correlation,annot=True,figsize=(14, 8))\n",
    "plt.title(\"Correlation between Columns \\n\")\n",
    "plt.show()"
   ]
  },
  {
   "cell_type": "markdown",
   "id": "2fb9b136-4c94-4b9b-9734-a81342e8b00d",
   "metadata": {},
   "source": [
    "### Insights\n",
    "Loan amount funded_amt_inv installment fundend_amt are highly postive corelated and dti and annual_inc highly negative coreleated."
   ]
  },
  {
   "cell_type": "markdown",
   "id": "1d70cb8e-81da-4a33-9310-54f4384c4cf5",
   "metadata": {},
   "source": [
    "# Suggestions\n",
    "Lending club shuold consider to accepting more loans request less then 10% interest rate as their probabity of charged_off is have lesser.\n",
    "\n",
    "Lending club shuold consider to accepting more loans request for borrowers which owning house their have lees probabilty to Charged_off.\n",
    "\n",
    "Lending club shuold consider to accepting more loans request for grade A respect to B C D becuase in B C D E have lots off Charged_off\n",
    "\n",
    "Lending club shuold consider to accepting more loans request of borrowers which have annual income gretaer then 90000 its charged_off % have nearest 10%.\n",
    "\n",
    "Lending club need to accept more loan for 36 month term there have less chances of charged_off and it continuously increasing year by year.\n",
    "\n",
    "Lending club need to accept loan which owning house, annual income have greater then 90000, interest rate is less then 10%.This combination is have less chances to charged_off.\n",
    "\n",
    "Lending club should accept more loan request of borrowers which one have source verified or verified. Their have less chance of charged_off.\n",
    "\n",
    "Lending club should accept more loan request of borrowers which one have employment experienc less then 10 years.\n",
    "\n",
    "Lending club should accept more loan for applied for wedding, major_purchase, car and credit_card here have chances of charged_off is less nearest 10% but for small business have 27.97% charged_off.\n",
    "\n",
    "Lenading club should accept the loan request for small loan amount For loan amount till 14K charged_off(nearest 13%) have low risk\n",
    "\n",
    "Lenading club should accept the loan request for coming from addres state IN IA and ME here having low risk of charged off."
   ]
  },
  {
   "cell_type": "code",
   "execution_count": null,
   "id": "194370bf-c313-45e0-81af-009c38c49e71",
   "metadata": {},
   "outputs": [],
   "source": [
    "predictors_df = pd.read_pickle(\"analysis-predictors.bz2\", compression='bz2')\n",
    "target_df = pd.read_pickle(\"analysis-target.bz2\", compression='bz2')"
   ]
  },
  {
   "cell_type": "code",
   "execution_count": null,
   "id": "77953a66-dc5b-4727-826e-e569787a0d1c",
   "metadata": {},
   "outputs": [],
   "source": [
    "predictors_df.head()"
   ]
  },
  {
   "cell_type": "code",
   "execution_count": null,
   "id": "b049abfc-ea09-49aa-b4b4-06ac640c38c4",
   "metadata": {},
   "outputs": [],
   "source": [
    "target_df.head()"
   ]
  },
  {
   "cell_type": "code",
   "execution_count": null,
   "id": "169643bb-895c-45a4-a2a0-ce8ef7bbe231",
   "metadata": {},
   "outputs": [],
   "source": [
    "target_df"
   ]
  },
  {
   "cell_type": "code",
   "execution_count": null,
   "id": "8083c225-dc94-46f8-8849-e9266c9d0d19",
   "metadata": {},
   "outputs": [],
   "source": []
  }
 ],
 "metadata": {
  "kernelspec": {
   "display_name": "Python 3 (ipykernel)",
   "language": "python",
   "name": "python3"
  },
  "language_info": {
   "codemirror_mode": {
    "name": "ipython",
    "version": 3
   },
   "file_extension": ".py",
   "mimetype": "text/x-python",
   "name": "python",
   "nbconvert_exporter": "python",
   "pygments_lexer": "ipython3",
   "version": "3.11.7"
  },
  "widgets": {
   "application/vnd.jupyter.widget-state+json": {
    "state": {},
    "version_major": 2,
    "version_minor": 0
   }
  }
 },
 "nbformat": 4,
 "nbformat_minor": 5
}
